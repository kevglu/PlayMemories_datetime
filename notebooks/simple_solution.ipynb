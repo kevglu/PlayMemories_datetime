{
 "cells": [
  {
   "cell_type": "markdown",
   "id": "3cc379ef",
   "metadata": {},
   "source": [
    "# Play memories to sensible folder format\n",
    "Easy way: from folder names, 31.12.2022 read the day, month, year and convert your folders"
   ]
  },
  {
   "cell_type": "code",
   "execution_count": 1,
   "id": "6b3b0b46",
   "metadata": {},
   "outputs": [],
   "source": [
    "myfolder = \"D:/Users/Kevin/Pictures/test\""
   ]
  },
  {
   "cell_type": "code",
   "execution_count": 2,
   "id": "f757eace",
   "metadata": {},
   "outputs": [],
   "source": [
    "from pathlib import Path\n",
    "import os"
   ]
  },
  {
   "cell_type": "code",
   "execution_count": 3,
   "id": "87a31abc",
   "metadata": {},
   "outputs": [],
   "source": [
    "def german2Ymd(mypath:Path)->str:\n",
    "    \"\"\"Converts lowest level folder in a path to Ymd\n",
    "\n",
    "    Args:\n",
    "        mypath (Path): a path ending in xx.xx.xxxx\n",
    "\n",
    "    Returns:\n",
    "        str: a string of format YYYYMMDD\n",
    "    \"\"\"\n",
    "    from datetime import datetime\n",
    "    root_date = datetime.strptime(os.path.basename(mypath), '%d.%m.%Y').date()\n",
    "    return root_date.strftime('%Y%m%d')"
   ]
  },
  {
   "cell_type": "code",
   "execution_count": 4,
   "id": "36a43e2d",
   "metadata": {},
   "outputs": [],
   "source": [
    "def getNewPath(root_path:Path, suffix):\n",
    "    \"\"\"Yields the new folder name\n",
    "\n",
    "    Args:\n",
    "        root_path (Path): A path of old format\n",
    "        suffix (str): New lowest level folder name\n",
    "\n",
    "    Returns:\n",
    "        _type_: _description_\n",
    "    \"\"\"\n",
    "    return Path(os.path.split(root_path)[0]+'\\\\'+suffix)"
   ]
  },
  {
   "cell_type": "code",
   "execution_count": 5,
   "id": "33edb594",
   "metadata": {},
   "outputs": [],
   "source": [
    "import re\n",
    "r = re.compile('[0-3][0-9]\\\\.[0-1][0-9]\\\\.[0-9]*')\n",
    "for root, dirs, files in os.walk(myfolder):\n",
    "    # if folder name matches the regEx\n",
    "    if r.match(root[-10:]) is not None:\n",
    "        root_path = Path(root)\n",
    "        root_date_str = german2Ymd(root_path)\n",
    "        target_path = getNewPath(root_path,root_date_str)\n",
    "        print(f'From {root_path} to {target_path}')\n",
    "        os.rename(root_path,target_path)"
   ]
  },
  {
   "cell_type": "code",
   "execution_count": null,
   "id": "20877ff7",
   "metadata": {},
   "outputs": [],
   "source": []
  }
 ],
 "metadata": {
  "kernelspec": {
   "display_name": "PlayMemories_datetime",
   "language": "python",
   "name": "python3"
  },
  "language_info": {
   "codemirror_mode": {
    "name": "ipython",
    "version": 3
   },
   "file_extension": ".py",
   "mimetype": "text/x-python",
   "name": "python",
   "nbconvert_exporter": "python",
   "pygments_lexer": "ipython3",
   "version": "3.13.5"
  }
 },
 "nbformat": 4,
 "nbformat_minor": 5
}
