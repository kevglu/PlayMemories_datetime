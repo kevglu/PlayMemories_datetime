{
 "cells": [
  {
   "cell_type": "markdown",
   "id": "abf0faf8",
   "metadata": {},
   "source": [
    "# Read Creation date and create a folder structure\n",
    "\n",
    "Fuck, this only works for JPEGs"
   ]
  },
  {
   "cell_type": "code",
   "execution_count": 1,
   "id": "29eca835",
   "metadata": {},
   "outputs": [],
   "source": [
    "from PIL import Image\n",
    "from PIL.ExifTags import TAGS"
   ]
  },
  {
   "cell_type": "code",
   "execution_count": 2,
   "id": "0e57e6b6",
   "metadata": {},
   "outputs": [],
   "source": [
    "input_path = '../data/input'\n",
    "output_path = '../data/output'"
   ]
  },
  {
   "cell_type": "code",
   "execution_count": 3,
   "id": "b3539d1b",
   "metadata": {},
   "outputs": [],
   "source": [
    "def get_exif_data(image_path):\n",
    "    \"\"\"\n",
    "    Reads EXIF data of image  and returns date.\n",
    "\n",
    "    Args:\n",
    "        image_path\n",
    "\n",
    "    Returns:\n",
    "        Recording date as String or None if no date found.\n",
    "    \"\"\"\n",
    "    try:\n",
    "        img = Image.open(image_path)\n",
    "        exif_data = img._getexif()\n",
    "\n",
    "        if exif_data:\n",
    "            for tag, value in exif_data.items():\n",
    "                tag_name = TAGS.get(tag, tag)\n",
    "                if tag_name == 'DateTimeOriginal':\n",
    "                    return value\n",
    "        return None\n",
    "    except (IOError, KeyError, AttributeError):\n",
    "        return None\n"
   ]
  },
  {
   "cell_type": "markdown",
   "id": "1afc89c9",
   "metadata": {},
   "source": [
    "Using pathlib"
   ]
  },
  {
   "cell_type": "code",
   "execution_count": 4,
   "id": "e061c3a0",
   "metadata": {},
   "outputs": [],
   "source": [
    "# import pathlib\n",
    "# p = pathlib.Path(input_path)\n",
    "# # list all files recursively\n",
    "# dir_file_list = list(p.glob('**/*'))    \n",
    "# # convert WindowsPath to string\n",
    "# dir_file_list = [str(item) for item in dir_file_list]\n",
    "# # filter for images\n",
    "# file_list = [item for item in dir_file_list if item.endswith(img_formats)]"
   ]
  },
  {
   "cell_type": "markdown",
   "id": "98c178a4",
   "metadata": {},
   "source": [
    "### Using os walk"
   ]
  },
  {
   "cell_type": "code",
   "execution_count": 5,
   "id": "8766f5ef",
   "metadata": {},
   "outputs": [
    {
     "name": "stdout",
     "output_type": "stream",
     "text": [
      "../data/input/02/20200314_1009.ARW\n"
     ]
    }
   ],
   "source": [
    "import os\n",
    "for root, dirs, files in os.walk(input_path):\n",
    "    for file in files:\n",
    "        print(os.path.join(root, file).replace(\"\\\\\",\"/\"))"
   ]
  },
  {
   "cell_type": "markdown",
   "id": "63fb0d4b",
   "metadata": {},
   "source": [
    "Get exif data (Aufnahmedatum)"
   ]
  },
  {
   "cell_type": "code",
   "execution_count": 20,
   "id": "dc09c531",
   "metadata": {},
   "outputs": [
    {
     "name": "stdout",
     "output_type": "stream",
     "text": [
      "No exif date found for file: ../data/input/02/20200314_1009.ARW\n"
     ]
    }
   ],
   "source": [
    "from datetime import datetime\n",
    "image_path = '../data/input/02/20200314_1009.ARW' \n",
    "exif_date = get_exif_data(image_path)\n",
    "\n",
    "# returns creation date (not = date the photo was taken)\n",
    "# exif_date = os.path.getctime(image_path)\n",
    "# dt_exif = datetime.fromtimestamp(exif_date).strftime('%Y-%m-%d')\n",
    "\n",
    "if exif_date:\n",
    "    dt_exif = datetime.strptime(exif_date, '%Y:%m:%d %H:%M:%S')\n",
    "else:\n",
    "    print(f\"No exif date found for file: {image_path}\")"
   ]
  },
  {
   "cell_type": "code",
   "execution_count": 21,
   "id": "7f8f6aa9",
   "metadata": {},
   "outputs": [
    {
     "ename": "AttributeError",
     "evalue": "'str' object has no attribute 'year'",
     "output_type": "error",
     "traceback": [
      "\u001b[31m---------------------------------------------------------------------------\u001b[39m",
      "\u001b[31mAttributeError\u001b[39m                            Traceback (most recent call last)",
      "\u001b[36mCell\u001b[39m\u001b[36m \u001b[39m\u001b[32mIn[21]\u001b[39m\u001b[32m, line 2\u001b[39m\n\u001b[32m      1\u001b[39m \u001b[38;5;28;01mif\u001b[39;00m dt_exif:\n\u001b[32m----> \u001b[39m\u001b[32m2\u001b[39m     new_dir = os.path.join(output_path,\u001b[33mf\u001b[39m\u001b[33m\"\u001b[39m\u001b[38;5;132;01m{\u001b[39;00m\u001b[43mdt_exif\u001b[49m\u001b[43m.\u001b[49m\u001b[43myear\u001b[49m\u001b[38;5;132;01m}\u001b[39;00m\u001b[33m-\u001b[39m\u001b[38;5;132;01m{\u001b[39;00mdt_exif.month\u001b[38;5;132;01m:\u001b[39;00m\u001b[33m02d\u001b[39m\u001b[38;5;132;01m}\u001b[39;00m\u001b[33m-\u001b[39m\u001b[38;5;132;01m{\u001b[39;00mdt_exif.day\u001b[38;5;132;01m:\u001b[39;00m\u001b[33m02d\u001b[39m\u001b[38;5;132;01m}\u001b[39;00m\u001b[33m\"\u001b[39m).replace(\u001b[33m\"\u001b[39m\u001b[38;5;130;01m\\\\\u001b[39;00m\u001b[33m\"\u001b[39m,\u001b[33m\"\u001b[39m\u001b[33m/\u001b[39m\u001b[33m\"\u001b[39m)\n\u001b[32m      3\u001b[39m     \u001b[38;5;28mprint\u001b[39m(new_dir)\n",
      "\u001b[31mAttributeError\u001b[39m: 'str' object has no attribute 'year'"
     ]
    }
   ],
   "source": [
    "if dt_exif:\n",
    "    new_dir = os.path.join(output_path,f\"{dt_exif.year}-{dt_exif.month:02d}-{dt_exif.day:02d}\").replace(\"\\\\\",\"/\")\n",
    "    print(new_dir)"
   ]
  },
  {
   "cell_type": "markdown",
   "id": "60a24fd3",
   "metadata": {},
   "source": [
    "Create the directories (makedirs is recursive)"
   ]
  },
  {
   "cell_type": "code",
   "execution_count": null,
   "id": "2049c2ad",
   "metadata": {},
   "outputs": [],
   "source": [
    "if not os.path.isdir(new_dir):\n",
    "    os.makedirs(new_dir)"
   ]
  },
  {
   "cell_type": "markdown",
   "id": "353f54cd",
   "metadata": {},
   "source": [
    "Now move the files"
   ]
  },
  {
   "cell_type": "code",
   "execution_count": null,
   "id": "8b0fab5d",
   "metadata": {},
   "outputs": [],
   "source": [
    "import shutil"
   ]
  },
  {
   "cell_type": "code",
   "execution_count": null,
   "id": "42632550",
   "metadata": {},
   "outputs": [],
   "source": [
    "new_path = new_dir + \"/20200314_1009.JPG\"\n",
    "shutil.move(image_path,new_path)"
   ]
  },
  {
   "cell_type": "markdown",
   "id": "05b78bb0",
   "metadata": {},
   "source": [
    "# Now what..."
   ]
  },
  {
   "cell_type": "markdown",
   "id": "87562a65",
   "metadata": {},
   "source": [
    "Easy way: from folder names, 31.12.2022 read the day, month, year and convert your folders\n",
    " \n",
    "Hard way: search for some obsucre way to read the creation date."
   ]
  }
 ],
 "metadata": {
  "kernelspec": {
   "display_name": "PlayMemories_datetime",
   "language": "python",
   "name": "python3"
  },
  "language_info": {
   "codemirror_mode": {
    "name": "ipython",
    "version": 3
   },
   "file_extension": ".py",
   "mimetype": "text/x-python",
   "name": "python",
   "nbconvert_exporter": "python",
   "pygments_lexer": "ipython3",
   "version": "3.13.5"
  }
 },
 "nbformat": 4,
 "nbformat_minor": 5
}
